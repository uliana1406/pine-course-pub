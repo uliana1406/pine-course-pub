{
 "cells": [
  {
   "cell_type": "markdown",
   "id": "fbe24c63",
   "metadata": {},
   "source": [
    "## Introduction to machine learning"
   ]
  },
  {
   "cell_type": "markdown",
   "id": "84730b28",
   "metadata": {},
   "source": [
    "## Task 1: Linear regression"
   ]
  },
  {
   "cell_type": "markdown",
   "id": "97d64103",
   "metadata": {},
   "source": [
    "### Linear Regression\n",
    "\n",
    "Let's consider a dataset of $n$ observations with one independent variable $x$, and a dependent variable $y$. \n",
    "\n",
    "$$\n",
    "\\mathbf{x} =\n",
    "\\begin{bmatrix}\n",
    "x_1 \\\\\n",
    "x_2 \\\\\n",
    "\\vdots \\\\\n",
    "x_n\n",
    "\\end{bmatrix}, \\quad \\mathbf{y} =\n",
    "\\begin{bmatrix}\n",
    "y_1 \\\\\n",
    "y_2 \\\\\n",
    "\\vdots \\\\\n",
    "y_n\n",
    "\\end{bmatrix}\n",
    "$$\n",
    "\n",
    "\n",
    "We can define a hypothesis function assuming a linear relation as;\n",
    "\n",
    "$$\n",
    "\\hat{y}_{i} = f_\\theta(x_i) = \\theta_0 + \\theta_1 x_i + \\epsilon_i, \\quad \\quad i = 1, \\dots , n\n",
    "$$\n",
    "\n",
    "or in matrix notation as:\n",
    "\n",
    "$$ \n",
    "\\mathbf{\\hat{y}} = f_\\theta(x) = \\mathbf{X} \\boldsymbol{\\theta} + \\boldsymbol{\\epsilon} "
   ]
  },
  {
   "cell_type": "markdown",
   "id": "18821878",
   "metadata": {},
   "source": [
    "where,\n",
    "\n",
    "$$\n",
    "\\mathbf{\\hat{y}} =\n",
    "\\begin{bmatrix}\n",
    "\\hat{y_1} \\\\\n",
    "\\hat{y_2} \\\\\n",
    "\\vdots \\\\\n",
    "\\hat{y_n}\n",
    "\\end{bmatrix} \\quad\n",
    "\n",
    "\\mathbf{X} = \n",
    "\\begin{bmatrix}\n",
    "1 & x_1 \\\\\n",
    "1 & x_2 \\\\\n",
    "\\vdots & \\vdots \\\\\n",
    "1 & x_n\\\\\n",
    "\\end{bmatrix} \\quad\n",
    "\n",
    "\\boldsymbol{\\theta} =\n",
    "\\begin{bmatrix}\n",
    "\\theta_0 \\\\\n",
    "\\theta_1\n",
    "\\end{bmatrix} \\quad\n",
    "\n",
    "\\boldsymbol{\\epsilon} =\n",
    "\\begin{bmatrix}\n",
    "\\epsilon_1 \\\\\n",
    "\\epsilon_2\\\\\n",
    "\\vdots \\\\\n",
    "\\epsilon_n\n",
    "\\end{bmatrix}\n",
    "$$\n",
    "\n",
    "\n",
    "We can then write the error as\n",
    "\n",
    "$$\n",
    "\\boldsymbol{\\epsilon} = \\mathbf{\\hat{y}} - \\mathbf{X} \\boldsymbol{\\theta} =\n",
    "\\begin{bmatrix}\n",
    "\\hat{y_1} - \\theta_0 - \\theta_1 x_1\\\\\n",
    "\\hat{y_2} - \\theta_0 - \\theta_1 x_2\\\\\n",
    "\\vdots \\\\\n",
    "\\hat{y_n} - \\theta_0 - \\theta_1 x_n\n",
    "\\end{bmatrix} \\quad\n",
    "$$"
   ]
  },
  {
   "cell_type": "markdown",
   "id": "77c6fb6a",
   "metadata": {},
   "source": [
    "Taking the euclidian norm of the error vector, we are left with a scalar representation of the error. \n",
    "\n",
    "$$\n",
    "\\|\\mathbf{y} - \\mathbf{Xw}\\| = \\sqrt{\\sum_{i=1}^{N} (y_i - w_0 - w_1 x_i)^2}.\n",
    "$$\n",
    "\n",
    "Lets then take the square of it to ensure that a unique solution. \n",
    "\n",
    "$$\n",
    "L(\\boldsymbol{\\theta}) = \\|\\mathbf{y} - \\mathbf{Xw}\\|^2 = \\sum_{i=1}^{N} (y_i - w_0 - w_1 x_i)^2.\n",
    "$$\n",
    "\n",
    "Where $L(\\boldsymbol{\\theta})$ represents the loss/objective function, which is also the sum of squared errors (SSE), or residual sum of squares (RSS). "
   ]
  },
  {
   "cell_type": "markdown",
   "id": "a5b33af9",
   "metadata": {},
   "source": [
    "From here it is only a mathematical problem to find the unique set of $\\boldsymbol{\\theta}$ that minimizes the defined loss function. Remember from calculus that to find the minimum value of a scalar function we need to calculate the gradient of it and then set it to zero. The gradient of the SSE is defined as,\n",
    "\n",
    "$$\n",
    "\\nabla_{\\boldsymbol{\\theta}} L(\\boldsymbol{\\theta}) = 2\\mathbf{X}^T (\\mathbf{X} \\boldsymbol{\\theta} - \\mathbf{y})\n",
    "$$\n",
    "\n",
    "setting the gradient as zero results the linear equation\n",
    "\n",
    "$$\n",
    "\\boldsymbol{\\theta} = (\\mathbf{X}^T\\mathbf{X})^{-1}\\mathbf{X}^T\\mathbf{y}"
   ]
  },
  {
   "cell_type": "markdown",
   "id": "098eb15b",
   "metadata": {},
   "source": [
    "#### Example:\n",
    "\n",
    "According to Terzaghi the relationship between void ratio and effective stress in soil consolidation can be described as:\n",
    "$$\n",
    "e = e_0 - C_c \\log \\sigma'\n",
    "$$\n",
    "\n",
    "where:  \n",
    "- $e$ is the void ratio  \n",
    "- $e_0$ is the initial void ratio  \n",
    "- $C_c$ is the compression index  \n",
    "- $\\sigma'$ is the effective stress  \n",
    "\n",
    "\n",
    "Lets create some syntetic data"
   ]
  },
  {
   "cell_type": "code",
   "execution_count": null,
   "id": "310648e4",
   "metadata": {},
   "outputs": [],
   "source": [
    "import numpy as np\n",
    "import matplotlib.pyplot as plt"
   ]
  },
  {
   "cell_type": "code",
   "execution_count": null,
   "id": "4723f929",
   "metadata": {},
   "outputs": [],
   "source": [
    "e0 = 1.2  # Initial void ratio\n",
    "Cc = 0.3  # Compression index\n",
    "sigma_prime = np.linspace(1, 100, 20)  # Effective stress from 0.1 to 100 (linear scale)\n",
    "noise = np.random.normal(0, 0.05, len(sigma_prime))  # Normal distribuion noise\n",
    "\n",
    "# Compute void ratio with noise\n",
    "e = e0 - Cc * np.log10(sigma_prime) + noise"
   ]
  },
  {
   "cell_type": "code",
   "execution_count": null,
   "id": "0c0201b5",
   "metadata": {},
   "outputs": [
    {
     "data": {
      "image/png": "[encoded data removed]",
      "text/plain": [
       "<Figure size 800x500 with 1 Axes>"
      ]
     },
     "metadata": {},
     "output_type": "display_data"
    }
   ],
   "source": [
    "# Plot results\n",
    "plt.figure(figsize=(8, 5))\n",
    "plt.scatter(sigma_prime, e, label=\"Data\", color=\"steelblue\", alpha=0.7)\n",
    "plt.xlabel(r'$\\sigma^\\prime$')\n",
    "plt.ylabel(r'$e$')\n",
    "plt.title(r'$e$ vs $\\sigma^\\prime$')\n",
    "plt.legend()\n",
    "plt.grid(True)\n",
    "plt.show()"
   ]
  },
  {
   "cell_type": "code",
   "execution_count": null,
   "id": "f9171caf",
   "metadata": {},
   "outputs": [
    {
     "data": {
      "image/png": "[encoded data removed]",
      "text/plain": [
       "<Figure size 800x500 with 1 Axes>"
      ]
     },
     "metadata": {},
     "output_type": "display_data"
    }
   ],
   "source": [
    "# Plot results\n",
    "plt.figure(figsize=(8, 5))\n",
    "plt.scatter(np.log10(sigma_prime), e, label=\"Data\", color=\"steelblue\", alpha=0.7)\n",
    "plt.xlabel(r'$\\log \\sigma^\\prime$')\n",
    "plt.ylabel(r'$e$')\n",
    "plt.title(r'$e$ vs $\\log \\sigma^\\prime$')\n",
    "plt.legend()\n",
    "plt.grid(True)\n",
    "plt.show()"
   ]
  },
  {
   "cell_type": "markdown",
   "id": "a657ba25",
   "metadata": {},
   "source": [
    "We can clearly see that the relation between the $\\log \\sigma'$ and $e$ seems linear. Lets now try to find the the best fit line. "
   ]
  },
  {
   "cell_type": "markdown",
   "id": "f4b1434b",
   "metadata": {},
   "source": [
    "#### 1.a Mathematical approach"
   ]
  },
  {
   "cell_type": "code",
   "execution_count": null,
   "id": "74aa8563",
   "metadata": {},
   "outputs": [
    {
     "ename": "NameError",
     "evalue": "name 'theta_best' is not defined",
     "output_type": "error",
     "traceback": [
      "\u001b[0;31m---------------------------------------------------------------------------\u001b[0m",
      "\u001b[0;31mNameError\u001b[0m                                 Traceback (most recent call last)",
      "Cell \u001b[0;32mIn[9], line 5\u001b[0m\n\u001b[1;32m      1\u001b[0m \u001b[38;5;66;03m#TODO: stack ones and log(sigma) to form the matrix X\u001b[39;00m\n\u001b[1;32m      2\u001b[0m \u001b[38;5;66;03m#TODO: reshape e to a column vector y\u001b[39;00m\n\u001b[1;32m      3\u001b[0m \u001b[38;5;66;03m#TODO: use numpy.linalg.inv() to compute the inverse of a matrix and compute theta_best\u001b[39;00m\n\u001b[0;32m----> 5\u001b[0m \u001b[38;5;28mprint\u001b[39m(\u001b[38;5;124mf\u001b[39m\u001b[38;5;124m'\u001b[39m\u001b[38;5;124mregression: e = \u001b[39m\u001b[38;5;132;01m{\u001b[39;00m\u001b[43mtheta_best\u001b[49m[\u001b[38;5;241m0\u001b[39m][\u001b[38;5;241m0\u001b[39m]\u001b[38;5;132;01m:\u001b[39;00m\u001b[38;5;124m.2f\u001b[39m\u001b[38;5;132;01m}\u001b[39;00m\u001b[38;5;124m + \u001b[39m\u001b[38;5;132;01m{\u001b[39;00mtheta_best[\u001b[38;5;241m1\u001b[39m][\u001b[38;5;241m0\u001b[39m]\u001b[38;5;132;01m:\u001b[39;00m\u001b[38;5;124m.2f\u001b[39m\u001b[38;5;132;01m}\u001b[39;00m\u001b[38;5;124m * log(sigma)\u001b[39m\u001b[38;5;124m'\u001b[39m)\n\u001b[1;32m      6\u001b[0m \u001b[38;5;28mprint\u001b[39m(\u001b[38;5;124mf\u001b[39m\u001b[38;5;124m'\u001b[39m\u001b[38;5;124mideal model: e = \u001b[39m\u001b[38;5;132;01m{\u001b[39;00me0\u001b[38;5;132;01m:\u001b[39;00m\u001b[38;5;124m.2f\u001b[39m\u001b[38;5;132;01m}\u001b[39;00m\u001b[38;5;124m - \u001b[39m\u001b[38;5;132;01m{\u001b[39;00mCc\u001b[38;5;132;01m:\u001b[39;00m\u001b[38;5;124m.2f\u001b[39m\u001b[38;5;132;01m}\u001b[39;00m\u001b[38;5;124m * log(sigma)\u001b[39m\u001b[38;5;124m'\u001b[39m)\n",
      "\u001b[0;31mNameError\u001b[0m: name 'theta_best' is not defined"
     ]
    }
   ],
   "source": [
    "#TODO: stack ones and log(sigma) to form the matrix X\n",
    "#TODO: reshape e to a column vector y\n",
    "#TODO: use numpy.linalg.inv() to compute the inverse of a matrix and compute theta_best\n",
    "\n",
    "print(f'regression: e = {theta_best[0][0]:.2f} + {theta_best[1][0]:.2f} * log(sigma)')\n",
    "print(f'ideal model: e = {e0:.2f} - {Cc:.2f} * log(sigma)')"
   ]
  },
  {
   "cell_type": "code",
   "execution_count": null,
   "id": "209b86f1",
   "metadata": {},
   "outputs": [],
   "source": [
    "# plot the best fit line\n",
    "plt.figure(figsize=(8, 5))\n",
    "plt.scatter(np.log10(sigma_prime), e, label=\"Data\", color=\"steelblue\", alpha=0.7)\n",
    "plt.plot(np.log10(sigma_prime), e0 - Cc * np.log10(sigma_prime), color='mediumpurple', label=\"Ideal Model\")\n",
    "plt.plot(np.log10(sigma_prime), X.dot(theta_best), 'k--', label=\"Best Fit Line\")\n",
    "plt.xlabel(r'$\\log \\sigma^\\prime$')\n",
    "plt.ylabel(r'$e$')\n",
    "plt.legend()\n",
    "plt.grid(True)"
   ]
  },
  {
   "cell_type": "markdown",
   "id": "0b41fd21",
   "metadata": {},
   "source": [
    "#### 1.b Gradient descent\n",
    "\n",
    "There is another approach to fitting the data: using optimization algorithms.  Steepest gradient descent is one of those algorithms, and it is widely used in ML tasks. Theoretical background for gradient descent algortihms can be found in the lecture slides or the script."
   ]
  },
  {
   "cell_type": "markdown",
   "id": "6ba90187",
   "metadata": {},
   "source": [
    "Lets now try to find the the best fit line, using gradient descent. At first we need to define the function, which would compute the gradients of a loss function. Do it for following loss functions:\n",
    "\n",
    "1. SSE\n",
    "2. MSE\n",
    "3. RMSE"
   ]
  },
  {
   "cell_type": "code",
   "execution_count": null,
   "id": "40c35689",
   "metadata": {},
   "outputs": [],
   "source": [
    "def compute_gradient_SSE(theta):\n",
    "    #TODO: implement the gradient of SSE\n",
    "\n",
    "def compute_gradient_MSE(theta):\n",
    "    #TODO: implement the gradient of MSE\n",
    "  \n",
    "\n",
    "def compute_gradient_RMSE(theta):\n",
    "    #TODO: implement the gradient of RMSE"
   ]
  },
  {
   "cell_type": "markdown",
   "id": "0877b6a0",
   "metadata": {},
   "source": [
    "The next steep is implementing the gradient descent loop and weight update. Compare the performance of different loss functions with different learning rates [0.1, 0.05, 0.01]. What do you observe? Which loss functions perform better with smaller/bigger learning rate?"
   ]
  },
  {
   "cell_type": "code",
   "execution_count": null,
   "id": "558a9a92",
   "metadata": {},
   "outputs": [],
   "source": [
    "theta = np.random.rand(2, 1)  # random initial guess\n",
    "learning_rate = 0.01\n",
    "n_iterations = 300\n",
    "\n",
    "#TODO: implement steepest gradient descent\n",
    "\n",
    "print(f'regression: e = {theta[0][0]:.2f} + {theta[1][0]:.2f} * log(sigma)')\n",
    "print(f'ideal model: e = {e0:.2f} - {Cc:.2f} * log(sigma)')"
   ]
  },
  {
   "cell_type": "markdown",
   "id": "26a21da3",
   "metadata": {},
   "source": [
    "Now lets visualize the fitted curve"
   ]
  },
  {
   "cell_type": "code",
   "execution_count": null,
   "id": "b36c3606",
   "metadata": {},
   "outputs": [],
   "source": [
    "# plot the best fit line\n",
    "plt.figure(figsize=(8, 5))\n",
    "plt.scatter(sigma_prime, e, label=\"Data\", color=\"blue\", alpha=0.7)\n",
    "plt.plot(sigma_prime, e0 - Cc * np.log10(sigma_prime), 'r-', label=\"Ideal Model\")\n",
    "plt.plot(sigma_prime, theta[1][0] * np.log10(sigma_prime) + theta[0][0], 'k--', label=\"Best Fit Line\")\n",
    "plt.xlabel(r'$\\sigma^\\prime$')\n",
    "plt.ylabel(r'$e$')\n",
    "plt.legend()\n",
    "plt.grid(True)"
   ]
  },
  {
   "cell_type": "markdown",
   "id": "852be984",
   "metadata": {},
   "source": [
    "## Task 2: Regression on real data"
   ]
  },
  {
   "cell_type": "markdown",
   "id": "2afd3e5d",
   "metadata": {},
   "source": [
    "add theoretical background from geomechanics here"
   ]
  },
  {
   "cell_type": "markdown",
   "id": "8fcf12a7",
   "metadata": {},
   "source": [
    "### Data extraction"
   ]
  },
  {
   "cell_type": "markdown",
   "id": "8d450d1a",
   "metadata": {},
   "source": [
    "Before training the ML model, it is important to analyze the data is it going to be used on. What are the labels and targets? What are the necessary conditions for the datasets to be used in machine learning algorithms?\n",
    "\n",
    "Tip: explore the dimensions of the datasets. Do they represent a specific mathematical object used in ML algorithms? "
   ]
  },
  {
   "cell_type": "code",
   "execution_count": null,
   "id": "736f8926",
   "metadata": {},
   "outputs": [],
   "source": [
    "import pandas as pd\n",
    "import numpy as np\n",
    "\n",
    "df = pd.read_pickle('data.pkl') # read the data from a pickle file\n",
    "\n",
    "# TODO: Use the debugger or print(df) to explore the structure of the dataset."
   ]
  },
  {
   "cell_type": "markdown",
   "id": "2f8aaa62",
   "metadata": {},
   "source": [
    "We can see, that the columns SSA, q_i and r_d can be represented as a vectors with the shape (73,), so they can be converted into matrices."
   ]
  },
  {
   "cell_type": "code",
   "execution_count": null,
   "id": "5425559f",
   "metadata": {},
   "outputs": [],
   "source": [
    "# TODO: use the .to_numpy() method to transform the columns of the dataframe (SSA, q_i, r_d) into numpy arrays"
   ]
  },
  {
   "cell_type": "markdown",
   "id": "9a79be70",
   "metadata": {},
   "source": [
    "The columns 'T' and 'SW' however represent a nested list, elements of which all have different lengths. This non-uniform behaviour of the dataset still allows for said datasets to be represented as a numpy array, however it is not yet a proper matrix."
   ]
  },
  {
   "cell_type": "code",
   "execution_count": null,
   "id": "07025eac",
   "metadata": {},
   "outputs": [],
   "source": [
    "# specifying dtype is necessary to turn nested list into a numpy array\n",
    "\n",
    "temperature = np.array(df['T'], dtype=object)\n",
    "sw = np.array(df['SW'], dtype=object)"
   ]
  },
  {
   "cell_type": "markdown",
   "id": "bd18c067",
   "metadata": {},
   "source": [
    "### Data preprocessing\n",
    "\n",
    "Data preprocessing is a crucial step for training an ML model. The real experimental data rarely has an ideal structure required for training, and it has to be manipulated in some way beforehand."
   ]
  },
  {
   "cell_type": "markdown",
   "id": "36e5f27c",
   "metadata": {},
   "source": [
    "SSA, q_i and r_d are the clear features in the data. Temperature, however, is the feature as well, but the temperature array's dimensions are not yet compatible with the SSA, q_i and r_d arrays. Thus in order to obtain a proper feature matrix, the given arrays have to be expanded, flattened and combined. Since the targets sw are also represented as the nested list, they have to be manipulated as well.\n",
    "\n",
    "Final feature and target matrices can be represented as follows:"
   ]
  },
  {
   "cell_type": "markdown",
   "id": "78325c85",
   "metadata": {},
   "source": [
    "$$\\mathbf{X} = \n",
    "\\begin{bmatrix}\n",
    "SSA_1 & q_{i1} & r_{d1} & T_{11}\\\\\n",
    "SSA_1 & q_{i1} & r_{d1} & T_{12}\\\\\n",
    "\\vdots & \\vdots  & \\vdots & \\vdots\\\\\n",
    "SSA_1 & q_{i1} & r_{d1} & T_{1n}\\\\\n",
    "SSA_2 & q_{i2} & r_{d2} & T_{21}\\\\\n",
    "SSA_2 & q_{i2} & r_{d2} & T_{22}\\\\\n",
    "\\vdots & \\vdots  & \\vdots & \\vdots\\\\\n",
    "SSA_2 & q_{i2} & r_{d2} & T_{2m}\\\\\n",
    "\\vdots & \\vdots  & \\vdots & \\vdots\\\\\n",
    "SSA_{73} & q_{i73} & r_{d73} & T_{73l}\n",
    "\\end{bmatrix} \\quad\n",
    "\n",
    "\\mathbf{Y} = \n",
    "\\begin{bmatrix}\n",
    "sw_{11}\\\\\n",
    "sw_{12}\\\\\n",
    "\\vdots\\\\\n",
    "sw_{1n}\\\\\n",
    "sw_{21}\\\\\n",
    "sw_{22}\\\\\n",
    "\\vdots\\\\\n",
    "sw_{2m}\\\\\n",
    "\\vdots\\\\\n",
    "sw_{73l}\\\\\n",
    "\\end{bmatrix} \\quad$$"
   ]
  },
  {
   "cell_type": "markdown",
   "id": "dfea1d19",
   "metadata": {},
   "source": [
    "Where $n$, $m$ and $l$ are the lengths of nested array element. How can we achieve this structure? How should we manipulate current data?"
   ]
  },
  {
   "cell_type": "markdown",
   "id": "9c86e814",
   "metadata": {},
   "source": [
    "Step 1: expand the arrays SSA, q_i and r_d to match the lengths of the elements of the temperature array"
   ]
  },
  {
   "cell_type": "code",
   "execution_count": null,
   "id": "5f00b8b1",
   "metadata": {},
   "outputs": [],
   "source": [
    "# TODO: expand SSA using np.full() and for loop\n",
    "# TODO: expand q_i using np.full() and for loop\n",
    "# TODO: expand r_d using np.full() and for loop\n",
    "\n",
    "# Tip: use enumerate(temperature) to get the access to each element of the array and its indice"
   ]
  },
  {
   "cell_type": "markdown",
   "id": "83440f1b",
   "metadata": {},
   "source": [
    "Step 2: transform temperature array it into a column vector"
   ]
  },
  {
   "cell_type": "code",
   "execution_count": null,
   "id": "771865b1",
   "metadata": {},
   "outputs": [],
   "source": [
    "# TODO: use np.concatenate() and .reshape(-1, 1)"
   ]
  },
  {
   "cell_type": "markdown",
   "id": "fa8aee5f",
   "metadata": {},
   "source": [
    "Step 3: combine SSA, q_i, r_d and temperature into feature matrice"
   ]
  },
  {
   "cell_type": "code",
   "execution_count": null,
   "id": "18a45271",
   "metadata": {},
   "outputs": [],
   "source": [
    "# TODO combine expanded SSA, q_i, r_d into one array using np.stack() and a for loop\n",
    "# TODO: flatten the combined array using np.concatenate()\n",
    "# TODO: combine the acquired array with temperature"
   ]
  },
  {
   "cell_type": "markdown",
   "id": "2edd15ca",
   "metadata": {},
   "source": [
    "Step 4: normalize the features"
   ]
  },
  {
   "cell_type": "code",
   "execution_count": null,
   "id": "d8f8bf51",
   "metadata": {},
   "outputs": [],
   "source": [
    "from sklearn.preprocessing import MinMaxScaler\n",
    "scaler = MinMaxScaler() # method for data normalization\n",
    "\n",
    "# TODO: use scaler.fit_transform to apply the scaler to the array"
   ]
  },
  {
   "cell_type": "markdown",
   "id": "57a48e6e",
   "metadata": {},
   "source": [
    "Step 5: target array sw also has to be tranformed into a column vector and normalized."
   ]
  },
  {
   "cell_type": "code",
   "execution_count": null,
   "id": "15d25633",
   "metadata": {},
   "outputs": [],
   "source": [
    "# TODO: use np.concatenate() and .reshape(-1, 1)\n",
    "# TODO: use scaler.fit_transform to apply the scaler to the array"
   ]
  },
  {
   "cell_type": "markdown",
   "id": "e3b85145",
   "metadata": {},
   "source": [
    "### ML Training"
   ]
  },
  {
   "cell_type": "markdown",
   "id": "d6a783a1",
   "metadata": {},
   "source": [
    "Now that the data preprocessing is complete and both features and targets are normalized and presented in a matrix form, we can proceed with the training."
   ]
  },
  {
   "cell_type": "code",
   "execution_count": null,
   "id": "ca407f8d",
   "metadata": {},
   "outputs": [],
   "source": [
    "from sklearn.linear_model import LinearRegression\n",
    "from sklearn.preprocessing import PolynomialFeatures\n",
    "from sklearn.pipeline import make_pipeline\n",
    "from sklearn.model_selection import train_test_split\n",
    "from sklearn.metrics import mean_squared_error\n",
    "from sklearn.model_selection import cross_val_score\n",
    "\n",
    "# TODO: propely define X and y if not done yet\n",
    "# TODO: perform train/test split\n",
    "\n",
    "# TODO: find the best degree for a polynomial regression using the 5-fold cross-validation\n",
    "\n",
    "# TODO: define the best regression model\n",
    "# TODO: fit the model\n",
    "# TODO: evaluate the model performance by computing MSE"
   ]
  },
  {
   "cell_type": "markdown",
   "id": "b0d003b9",
   "metadata": {},
   "source": [
    "Now lets plot true and predicted sw values for each feature:"
   ]
  },
  {
   "cell_type": "code",
   "execution_count": null,
   "id": "84eeaf8e",
   "metadata": {},
   "outputs": [],
   "source": [
    "fig, axs = plt.subplots(2, 2, figsize=(12, 10))\n",
    "feature_names = ['SSA', 'q_i', 'r_d', 'temperature']\n",
    "\n",
    "for i in range(4):\n",
    "    ax = axs[i // 2, i % 2]\n",
    "    ax.scatter(X_test[:, i], y_test, color='lightcoral', label='True', alpha=0.7)\n",
    "    ax.scatter(X_test[:, i], y_pred, color='slategrey', label='Predicted', alpha=0.7)\n",
    "    ax.set_xlabel(feature_names[i])\n",
    "    ax.set_ylabel('sw')\n",
    "    ax.grid()\n",
    "    ax.legend()\n",
    "\n",
    "plt.tight_layout()\n",
    "plt.show()\n"
   ]
  }
 ],
 "metadata": {
  "kernelspec": {
   "display_name": "Python 3",
   "language": "python",
   "name": "python3"
  },
  "language_info": {
   "codemirror_mode": {
    "name": "ipython",
    "version": 3
   },
   "file_extension": ".py",
   "mimetype": "text/x-python",
   "name": "python",
   "nbconvert_exporter": "python",
   "pygments_lexer": "ipython3",
   "version": "3.10.6"
  }
 },
 "nbformat": 4,
 "nbformat_minor": 5
}
